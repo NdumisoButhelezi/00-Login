{
  "nbformat": 4,
  "nbformat_minor": 0,
  "metadata": {
    "colab": {
      "provenance": [],
      "mount_file_id": "1UIOqardIxubq6nkn03Ol5fzFNW6Yc5eK",
      "authorship_tag": "ABX9TyM+DzQJU6XAERh2oLvxlQMK",
      "include_colab_link": true
    },
    "kernelspec": {
      "name": "python3",
      "display_name": "Python 3"
    },
    "language_info": {
      "name": "python"
    }
  },
  "cells": [
    {
      "cell_type": "markdown",
      "metadata": {
        "id": "view-in-github",
        "colab_type": "text"
      },
      "source": [
        "<a href=\"https://colab.research.google.com/github/NdumisoButhelezi/00-Login/blob/master/Untitled2.ipynb\" target=\"_parent\"><img src=\"https://colab.research.google.com/assets/colab-badge.svg\" alt=\"Open In Colab\"/></a>"
      ]
    },
    {
      "cell_type": "code",
      "execution_count": 1,
      "metadata": {
        "id": "PWzGk-WfOgQC"
      },
      "outputs": [],
      "source": [
        "import pandas as pd\n",
        "\n",
        "def seed_mlb_homeruns(filename=\"datasets_2016-mlb-homeruns.csv\"):\n",
        "  \"\"\"\n",
        "  Seeds a CSV file with 2016 MLB home run data.\n",
        "\n",
        "  Args:\n",
        "    filename: The name of the CSV file to create. Defaults to \"datasets_2016-mlb-homeruns.csv\".\n",
        "\n",
        "  Returns:\n",
        "    None\n",
        "  \"\"\"\n",
        "\n",
        "  # Sample data (replace with actual data from a reliable source)\n",
        "  data = {\n",
        "      \"player_name\": [\"Mike Trout\", \"Bryce Harper\", \"Kris Bryant\", \"Corey Seager\", \"Nolan Arenado\"],\n",
        "      \"team\": [\"LAA\", \"WAS\", \"CHC\", \"LAD\", \"COL\"],\n",
        "      \"home_runs\": [29, 24, 29, 26, 40]\n",
        "  }\n",
        "\n",
        "  # Create a pandas DataFrame\n",
        "  df = pd.DataFrame(data)\n",
        "\n",
        "  # Save the DataFrame to a CSV file\n",
        "  df.to_csv(filename, index=False)\n",
        "\n",
        "if __name__ == \"__main__\":\n",
        "  seed_mlb_homeruns()"
      ]
    },
    {
      "cell_type": "code",
      "source": [
        "import pandas as pd\n",
        "\n",
        "def read_mlb_homeruns(filename=\"datasets_2016-mlb-homeruns.csv\"):\n",
        "  \"\"\"\n",
        "  Reads MLB home run data from a CSV file.\n",
        "\n",
        "  Args:\n",
        "    filename: The name of the CSV file to read.\n",
        "              Defaults to \"datasets_2016-mlb-homeruns.csv\".\n",
        "\n",
        "  Returns:\n",
        "    A pandas DataFrame containing the data.\n",
        "  \"\"\"\n",
        "\n",
        "  try:\n",
        "    df = pd.read_csv(filename)\n",
        "    return df\n",
        "  except FileNotFoundError:\n",
        "    print(f\"Error: File '{filename}' not found.\")\n",
        "    return None\n",
        "\n",
        "if __name__ == \"__main__\":\n",
        "  df = read_mlb_homeruns()\n",
        "  if df is not None:\n",
        "    print(df)"
      ],
      "metadata": {
        "colab": {
          "base_uri": "https://localhost:8080/"
        },
        "id": "zXoIuvm-Pvo9",
        "outputId": "664568ac-fd76-40ef-e4e0-db139b0c59a6"
      },
      "execution_count": 2,
      "outputs": [
        {
          "output_type": "stream",
          "name": "stdout",
          "text": [
            "     player_name team  home_runs\n",
            "0     Mike Trout  LAA         29\n",
            "1   Bryce Harper  WAS         24\n",
            "2    Kris Bryant  CHC         29\n",
            "3   Corey Seager  LAD         26\n",
            "4  Nolan Arenado  COL         40\n"
          ]
        }
      ]
    }
  ]
}