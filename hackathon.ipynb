{
  "cells": [
    {
      "cell_type": "markdown",
      "metadata": {
        "id": "view-in-github",
        "colab_type": "text"
      },
      "source": [
        "<a href=\"https://colab.research.google.com/github/NdumisoButhelezi/00-Login/blob/master/hackathon.ipynb\" target=\"_parent\"><img src=\"https://colab.research.google.com/assets/colab-badge.svg\" alt=\"Open In Colab\"/></a>"
      ]
    },
    {
      "cell_type": "markdown",
      "source": [
        "\n",
        "**Welcome to the RadixTrie hackathon**\n",
        "\n",
        "This hackathon takes place in the field of time series anomaly detection - in other words, your goal is to identify unusual patterns or values in time-ordered data. Although this field is used in many domains such as finance, predictive maintenance, and healthcare, RadixTrie employs time series anomaly detection to monitor the health of thousands of databases automatically and alert experts if issues were identified."
      ],
      "metadata": {
        "id": "8nzjuNgVd5YG"
      },
      "id": "8nzjuNgVd5YG"
    },
    {
      "cell_type": "markdown",
      "id": "0b49a227",
      "metadata": {
        "id": "0b49a227"
      },
      "source": [
        "First, the data is loaded. There shouldn't be a need to change the codeblock below. Two lists are created - one corresponding to train files, and the other corresponding to test files (loaded in DataFrame format).\n",
        "\n",
        "The data is synthetic. Normal data is generated using various differential equations used to model chaotic systems - so the time series is deterministic, but difficult to predict. These \"normal time series\" are injected with different types of anomalies in order to create the test data."
      ]
    },
    {
      "cell_type": "code",
      "source": [
        "import gdown\n",
        "import os\n",
        "\n",
        "# The ID from your Google Drive URL\n",
        "file_id = '1B9oQ-j3uM4FUUE6kI3BFEdTup49sAcQo'\n",
        "output_zip = 'radixtrie_data.zip'\n",
        "\n",
        "# Download the file using its ID\n",
        "gdown.download(id=file_id, output=output_zip, quiet=False)\n",
        "\n",
        "# Unzip the file to the current directory\n",
        "!unzip -q -o {output_zip}\n",
        "\n",
        "# Clean up the zip file (optional)\n",
        "os.remove(output_zip)\n",
        "\n",
        "print(\"File downloaded and extracted to the current directory.\")"
      ],
      "metadata": {
        "id": "dPVAJZ6Vi9w5",
        "colab": {
          "base_uri": "https://localhost:8080/"
        },
        "outputId": "a8b374be-9fc1-4ae6-e276-fee45ec9bfe7"
      },
      "id": "dPVAJZ6Vi9w5",
      "execution_count": 1,
      "outputs": [
        {
          "output_type": "stream",
          "name": "stderr",
          "text": [
            "Downloading...\n",
            "From: https://drive.google.com/uc?id=1B9oQ-j3uM4FUUE6kI3BFEdTup49sAcQo\n",
            "To: /content/radixtrie_data.zip\n",
            "100%|██████████| 18.3M/18.3M [00:00<00:00, 79.0MB/s]\n"
          ]
        },
        {
          "output_type": "stream",
          "name": "stdout",
          "text": [
            "File downloaded and extracted to the current directory.\n"
          ]
        }
      ]
    },
    {
      "cell_type": "code",
      "execution_count": 2,
      "id": "c70bc694",
      "metadata": {
        "id": "c70bc694",
        "colab": {
          "base_uri": "https://localhost:8080/",
          "height": 206
        },
        "outputId": "67882dec-656a-46ee-f4c4-23b146164a1a"
      },
      "outputs": [
        {
          "output_type": "execute_result",
          "data": {
            "text/plain": [
              "     Value1  Labels\n",
              "0  0.591902     0.0\n",
              "1  0.597335     0.0\n",
              "2  0.602158     0.0\n",
              "3  0.606395     0.0\n",
              "4  0.610058     0.0"
            ],
            "text/html": [
              "\n",
              "  <div id=\"df-14e2bdc4-6597-404f-81e3-76b29996834e\" class=\"colab-df-container\">\n",
              "    <div>\n",
              "<style scoped>\n",
              "    .dataframe tbody tr th:only-of-type {\n",
              "        vertical-align: middle;\n",
              "    }\n",
              "\n",
              "    .dataframe tbody tr th {\n",
              "        vertical-align: top;\n",
              "    }\n",
              "\n",
              "    .dataframe thead th {\n",
              "        text-align: right;\n",
              "    }\n",
              "</style>\n",
              "<table border=\"1\" class=\"dataframe\">\n",
              "  <thead>\n",
              "    <tr style=\"text-align: right;\">\n",
              "      <th></th>\n",
              "      <th>Value1</th>\n",
              "      <th>Labels</th>\n",
              "    </tr>\n",
              "  </thead>\n",
              "  <tbody>\n",
              "    <tr>\n",
              "      <th>0</th>\n",
              "      <td>0.591902</td>\n",
              "      <td>0.0</td>\n",
              "    </tr>\n",
              "    <tr>\n",
              "      <th>1</th>\n",
              "      <td>0.597335</td>\n",
              "      <td>0.0</td>\n",
              "    </tr>\n",
              "    <tr>\n",
              "      <th>2</th>\n",
              "      <td>0.602158</td>\n",
              "      <td>0.0</td>\n",
              "    </tr>\n",
              "    <tr>\n",
              "      <th>3</th>\n",
              "      <td>0.606395</td>\n",
              "      <td>0.0</td>\n",
              "    </tr>\n",
              "    <tr>\n",
              "      <th>4</th>\n",
              "      <td>0.610058</td>\n",
              "      <td>0.0</td>\n",
              "    </tr>\n",
              "  </tbody>\n",
              "</table>\n",
              "</div>\n",
              "    <div class=\"colab-df-buttons\">\n",
              "\n",
              "  <div class=\"colab-df-container\">\n",
              "    <button class=\"colab-df-convert\" onclick=\"convertToInteractive('df-14e2bdc4-6597-404f-81e3-76b29996834e')\"\n",
              "            title=\"Convert this dataframe to an interactive table.\"\n",
              "            style=\"display:none;\">\n",
              "\n",
              "  <svg xmlns=\"http://www.w3.org/2000/svg\" height=\"24px\" viewBox=\"0 -960 960 960\">\n",
              "    <path d=\"M120-120v-720h720v720H120Zm60-500h600v-160H180v160Zm220 220h160v-160H400v160Zm0 220h160v-160H400v160ZM180-400h160v-160H180v160Zm440 0h160v-160H620v160ZM180-180h160v-160H180v160Zm440 0h160v-160H620v160Z\"/>\n",
              "  </svg>\n",
              "    </button>\n",
              "\n",
              "  <style>\n",
              "    .colab-df-container {\n",
              "      display:flex;\n",
              "      gap: 12px;\n",
              "    }\n",
              "\n",
              "    .colab-df-convert {\n",
              "      background-color: #E8F0FE;\n",
              "      border: none;\n",
              "      border-radius: 50%;\n",
              "      cursor: pointer;\n",
              "      display: none;\n",
              "      fill: #1967D2;\n",
              "      height: 32px;\n",
              "      padding: 0 0 0 0;\n",
              "      width: 32px;\n",
              "    }\n",
              "\n",
              "    .colab-df-convert:hover {\n",
              "      background-color: #E2EBFA;\n",
              "      box-shadow: 0px 1px 2px rgba(60, 64, 67, 0.3), 0px 1px 3px 1px rgba(60, 64, 67, 0.15);\n",
              "      fill: #174EA6;\n",
              "    }\n",
              "\n",
              "    .colab-df-buttons div {\n",
              "      margin-bottom: 4px;\n",
              "    }\n",
              "\n",
              "    [theme=dark] .colab-df-convert {\n",
              "      background-color: #3B4455;\n",
              "      fill: #D2E3FC;\n",
              "    }\n",
              "\n",
              "    [theme=dark] .colab-df-convert:hover {\n",
              "      background-color: #434B5C;\n",
              "      box-shadow: 0px 1px 3px 1px rgba(0, 0, 0, 0.15);\n",
              "      filter: drop-shadow(0px 1px 2px rgba(0, 0, 0, 0.3));\n",
              "      fill: #FFFFFF;\n",
              "    }\n",
              "  </style>\n",
              "\n",
              "    <script>\n",
              "      const buttonEl =\n",
              "        document.querySelector('#df-14e2bdc4-6597-404f-81e3-76b29996834e button.colab-df-convert');\n",
              "      buttonEl.style.display =\n",
              "        google.colab.kernel.accessAllowed ? 'block' : 'none';\n",
              "\n",
              "      async function convertToInteractive(key) {\n",
              "        const element = document.querySelector('#df-14e2bdc4-6597-404f-81e3-76b29996834e');\n",
              "        const dataTable =\n",
              "          await google.colab.kernel.invokeFunction('convertToInteractive',\n",
              "                                                    [key], {});\n",
              "        if (!dataTable) return;\n",
              "\n",
              "        const docLinkHtml = 'Like what you see? Visit the ' +\n",
              "          '<a target=\"_blank\" href=https://colab.research.google.com/notebooks/data_table.ipynb>data table notebook</a>'\n",
              "          + ' to learn more about interactive tables.';\n",
              "        element.innerHTML = '';\n",
              "        dataTable['output_type'] = 'display_data';\n",
              "        await google.colab.output.renderOutput(dataTable, element);\n",
              "        const docLink = document.createElement('div');\n",
              "        docLink.innerHTML = docLinkHtml;\n",
              "        element.appendChild(docLink);\n",
              "      }\n",
              "    </script>\n",
              "  </div>\n",
              "\n",
              "\n",
              "    <div id=\"df-e38cf836-0806-430c-a4de-cd2d80474893\">\n",
              "      <button class=\"colab-df-quickchart\" onclick=\"quickchart('df-e38cf836-0806-430c-a4de-cd2d80474893')\"\n",
              "                title=\"Suggest charts\"\n",
              "                style=\"display:none;\">\n",
              "\n",
              "<svg xmlns=\"http://www.w3.org/2000/svg\" height=\"24px\"viewBox=\"0 0 24 24\"\n",
              "     width=\"24px\">\n",
              "    <g>\n",
              "        <path d=\"M19 3H5c-1.1 0-2 .9-2 2v14c0 1.1.9 2 2 2h14c1.1 0 2-.9 2-2V5c0-1.1-.9-2-2-2zM9 17H7v-7h2v7zm4 0h-2V7h2v10zm4 0h-2v-4h2v4z\"/>\n",
              "    </g>\n",
              "</svg>\n",
              "      </button>\n",
              "\n",
              "<style>\n",
              "  .colab-df-quickchart {\n",
              "      --bg-color: #E8F0FE;\n",
              "      --fill-color: #1967D2;\n",
              "      --hover-bg-color: #E2EBFA;\n",
              "      --hover-fill-color: #174EA6;\n",
              "      --disabled-fill-color: #AAA;\n",
              "      --disabled-bg-color: #DDD;\n",
              "  }\n",
              "\n",
              "  [theme=dark] .colab-df-quickchart {\n",
              "      --bg-color: #3B4455;\n",
              "      --fill-color: #D2E3FC;\n",
              "      --hover-bg-color: #434B5C;\n",
              "      --hover-fill-color: #FFFFFF;\n",
              "      --disabled-bg-color: #3B4455;\n",
              "      --disabled-fill-color: #666;\n",
              "  }\n",
              "\n",
              "  .colab-df-quickchart {\n",
              "    background-color: var(--bg-color);\n",
              "    border: none;\n",
              "    border-radius: 50%;\n",
              "    cursor: pointer;\n",
              "    display: none;\n",
              "    fill: var(--fill-color);\n",
              "    height: 32px;\n",
              "    padding: 0;\n",
              "    width: 32px;\n",
              "  }\n",
              "\n",
              "  .colab-df-quickchart:hover {\n",
              "    background-color: var(--hover-bg-color);\n",
              "    box-shadow: 0 1px 2px rgba(60, 64, 67, 0.3), 0 1px 3px 1px rgba(60, 64, 67, 0.15);\n",
              "    fill: var(--button-hover-fill-color);\n",
              "  }\n",
              "\n",
              "  .colab-df-quickchart-complete:disabled,\n",
              "  .colab-df-quickchart-complete:disabled:hover {\n",
              "    background-color: var(--disabled-bg-color);\n",
              "    fill: var(--disabled-fill-color);\n",
              "    box-shadow: none;\n",
              "  }\n",
              "\n",
              "  .colab-df-spinner {\n",
              "    border: 2px solid var(--fill-color);\n",
              "    border-color: transparent;\n",
              "    border-bottom-color: var(--fill-color);\n",
              "    animation:\n",
              "      spin 1s steps(1) infinite;\n",
              "  }\n",
              "\n",
              "  @keyframes spin {\n",
              "    0% {\n",
              "      border-color: transparent;\n",
              "      border-bottom-color: var(--fill-color);\n",
              "      border-left-color: var(--fill-color);\n",
              "    }\n",
              "    20% {\n",
              "      border-color: transparent;\n",
              "      border-left-color: var(--fill-color);\n",
              "      border-top-color: var(--fill-color);\n",
              "    }\n",
              "    30% {\n",
              "      border-color: transparent;\n",
              "      border-left-color: var(--fill-color);\n",
              "      border-top-color: var(--fill-color);\n",
              "      border-right-color: var(--fill-color);\n",
              "    }\n",
              "    40% {\n",
              "      border-color: transparent;\n",
              "      border-right-color: var(--fill-color);\n",
              "      border-top-color: var(--fill-color);\n",
              "    }\n",
              "    60% {\n",
              "      border-color: transparent;\n",
              "      border-right-color: var(--fill-color);\n",
              "    }\n",
              "    80% {\n",
              "      border-color: transparent;\n",
              "      border-right-color: var(--fill-color);\n",
              "      border-bottom-color: var(--fill-color);\n",
              "    }\n",
              "    90% {\n",
              "      border-color: transparent;\n",
              "      border-bottom-color: var(--fill-color);\n",
              "    }\n",
              "  }\n",
              "</style>\n",
              "\n",
              "      <script>\n",
              "        async function quickchart(key) {\n",
              "          const quickchartButtonEl =\n",
              "            document.querySelector('#' + key + ' button');\n",
              "          quickchartButtonEl.disabled = true;  // To prevent multiple clicks.\n",
              "          quickchartButtonEl.classList.add('colab-df-spinner');\n",
              "          try {\n",
              "            const charts = await google.colab.kernel.invokeFunction(\n",
              "                'suggestCharts', [key], {});\n",
              "          } catch (error) {\n",
              "            console.error('Error during call to suggestCharts:', error);\n",
              "          }\n",
              "          quickchartButtonEl.classList.remove('colab-df-spinner');\n",
              "          quickchartButtonEl.classList.add('colab-df-quickchart-complete');\n",
              "        }\n",
              "        (() => {\n",
              "          let quickchartButtonEl =\n",
              "            document.querySelector('#df-e38cf836-0806-430c-a4de-cd2d80474893 button');\n",
              "          quickchartButtonEl.style.display =\n",
              "            google.colab.kernel.accessAllowed ? 'block' : 'none';\n",
              "        })();\n",
              "      </script>\n",
              "    </div>\n",
              "\n",
              "    </div>\n",
              "  </div>\n"
            ],
            "application/vnd.google.colaboratory.intrinsic+json": {
              "type": "dataframe",
              "summary": "{\n  \"name\": \"test_files[0]\",\n  \"rows\": 5,\n  \"fields\": [\n    {\n      \"column\": \"Value1\",\n      \"properties\": {\n        \"dtype\": \"number\",\n        \"std\": 0.007195271528747276,\n        \"min\": 0.5919015094532418,\n        \"max\": 0.6100576035201914,\n        \"num_unique_values\": 5,\n        \"samples\": [\n          0.597334579077677,\n          0.6100576035201914,\n          0.6021579204310932\n        ],\n        \"semantic_type\": \"\",\n        \"description\": \"\"\n      }\n    },\n    {\n      \"column\": \"Labels\",\n      \"properties\": {\n        \"dtype\": \"number\",\n        \"std\": 0.0,\n        \"min\": 0.0,\n        \"max\": 0.0,\n        \"num_unique_values\": 1,\n        \"samples\": [\n          0.0\n        ],\n        \"semantic_type\": \"\",\n        \"description\": \"\"\n      }\n    }\n  ]\n}"
            }
          },
          "metadata": {},
          "execution_count": 2
        }
      ],
      "source": [
        "import pandas as pd\n",
        "import os\n",
        "import random\n",
        "import numpy as np\n",
        "import matplotlib.pyplot as plt\n",
        "\n",
        "train_file_names = os.listdir(\"train/\")\n",
        "train_file_names.sort()\n",
        "\n",
        "train_files = []\n",
        "for file in train_file_names:\n",
        "    train_files.append(pd.read_csv(f\"train/{file}\", sep=\";\"))\n",
        "\n",
        "test_file_names = os.listdir(\"test/\")\n",
        "test_file_names.sort()\n",
        "\n",
        "test_files = []\n",
        "for file in test_file_names:\n",
        "    test_files.append(pd.read_csv(f\"test/{file}\", sep=\";\"))\n",
        "\n",
        "test_files[0].head()"
      ]
    },
    {
      "cell_type": "markdown",
      "id": "a1d068e5",
      "metadata": {
        "id": "a1d068e5"
      },
      "source": [
        "In each test dataframe, there are two columns. The first column, \"Value1\" contains the actual time series values, while \"Labels\" shows whether it is an anomaly or not (0 is normal and 1 is anomalous). The training set contains anomaly-free data which can be used to train a model on what \"normal\" behaviour is. An example from the test set is plotted below. Since time series data is a visual domain, we highly recommend plotting more of the anomaly detection problems to get a feel for the data."
      ]
    },
    {
      "cell_type": "code",
      "execution_count": 3,
      "id": "66637070",
      "metadata": {
        "id": "66637070",
        "colab": {
          "base_uri": "https://localhost:8080/",
          "height": 472
        },
        "outputId": "7916e4fb-15e4-4359-d225-dbba1f542bad"
      },
      "outputs": [
        {
          "output_type": "display_data",
          "data": {
            "text/plain": [
              "<Figure size 640x480 with 1 Axes>"
            ],
            "image/png": "[encoded data removed]"
          },
          "metadata": {}
        }
      ],
      "source": [
        "test_files[0][7000:].plot()\n",
        "plt.title(\"Problem 1 - Test set\")\n",
        "plt.xlabel(\"Timestep\")\n",
        "plt.ylabel(\"Value\")\n",
        "plt.show()"
      ]
    },
    {
      "cell_type": "markdown",
      "source": [
        "Take note of how the anomaly is still within the normal time series \"range\", but the pattern changed. Many of the anomalies are similarly subtle - they often cannot be identified only by searching for large spikes, but using machine learning to identify subtle changes in pattern. Make sure that your model takes temporal information into account (by considering the \"neighbourhood\" of each point). Check out the topic of windowing (in other words, using subsequences) - have a look here for a reference https://sia-ai.medium.com/anomaly-detection-in-time-series-3f36c7b4cd73.\n",
        "\n",
        "Feel free to explore the rest of the time series as well. Plotting the data is a good way to get a feel for this kind of machine learning problem."
      ],
      "metadata": {
        "id": "pqiL4n2JctqP"
      },
      "id": "pqiL4n2JctqP"
    },
    {
      "cell_type": "markdown",
      "id": "b2acc1dc",
      "metadata": {
        "id": "b2acc1dc"
      },
      "source": [
        "Define your anomaly detection class below. It follows an sklearn-style \"fit predict\" interface.\n",
        "\n",
        "The fit method is used to train the model on training data. Not all anomaly detection models need to be trained, but this is provided for consistency.\n",
        "\n",
        "The predict method executes and predicts the most anomalous timestep on the test data. For the purposes of evaluation and this hackathon, only 1 timestep is returned.\n",
        "\n",
        "This is the only code you have to change for the purpose of this hackathon, but you are welcome to play around otherwise of course. Each model is only allowed to output one integer, corresponding to the most anomalous index."
      ]
    },
    {
      "cell_type": "code",
      "execution_count": 4,
      "id": "bbeab765",
      "metadata": {
        "id": "bbeab765"
      },
      "outputs": [],
      "source": [
        "from sklearn.ensemble import IsolationForest\n",
        "\n",
        "class AnomalyDetectionModel():\n",
        "    def init():\n",
        "        pass\n",
        "\n",
        "    # Fits the model to training data (X as input, y as labels)\n",
        "    def fit(self, X: np.ndarray, y: np.ndarray):\n",
        "        pass\n",
        "\n",
        "    # Predicts/returns the most anomalous index\n",
        "    def predict(self, X: np.ndarray):\n",
        "\n",
        "        # Replace the placeholder simple differencing model with your own custom model\n",
        "        differences = np.diff(X)\n",
        "        prediction = np.argmin(np.abs(differences))\n",
        "\n",
        "        # If you want to use a more complex model, try out the following\n",
        "        # This is a baseline sklearn model using isolation forest\n",
        "        # Keep in mind, it will take longer to run\n",
        "\n",
        "        #model = IsolationForest()\n",
        "        #model.fit(X.reshape(-1, 1))\n",
        "        #prediction = np.argmax(model.score_samples(X.reshape(-1, 1)))\n",
        "        return prediction\n",
        "\n"
      ]
    },
    {
      "cell_type": "markdown",
      "source": [
        "We implemented a differencing model above as a baseline. In other words, the timestep with the biggest difference with the previous timestep is flagged. Of course, better models will do better!\n",
        "\n",
        "Check out the sklearn documentation for some examples of possible machine learning models, such as isolation forest, one-class SVMs, local outlier factor, and more. You are welcome to try deep learning models as well, but in many cases they are overkill for univariate time series data. Consider using ensembles as well to combine the predictions of multiple models. Good luck!"
      ],
      "metadata": {
        "id": "KX9MSiPEfx_E"
      },
      "id": "KX9MSiPEfx_E"
    },
    {
      "cell_type": "markdown",
      "id": "34496d9b",
      "metadata": {
        "id": "34496d9b"
      },
      "source": [
        "Below is the test script for evaluating your model on the entire dataset. There should be no need to modify this cell. If the predicted index corresponds to a true anomaly, then that test problem is marked as correct. Your total score is returned as a percentage of problems that were solved correctly."
      ]
    },
    {
      "cell_type": "code",
      "execution_count": 5,
      "id": "1ef9b5b0",
      "metadata": {
        "id": "1ef9b5b0",
        "colab": {
          "base_uri": "https://localhost:8080/"
        },
        "outputId": "ec2605bc-11c5-403a-f94c-2c1c6a8e4054"
      },
      "outputs": [
        {
          "output_type": "stream",
          "name": "stdout",
          "text": [
            "Total score: 18%\n"
          ]
        }
      ],
      "source": [
        "correct = 0\n",
        "for train, test in zip(train_files, test_files):\n",
        "    model = AnomalyDetectionModel()\n",
        "\n",
        "    model.fit(train.Value1.to_numpy().flatten(), train.Value1.to_numpy().flatten())\n",
        "\n",
        "    prediction_index = model.predict(test.Value1.to_numpy().flatten())\n",
        "\n",
        "    if (test.loc[prediction_index, \"Labels\"] == 1):\n",
        "        correct += 1\n",
        "\n",
        "print(f\"Total score: {correct}%\")\n"
      ]
    }
  ],
  "metadata": {
    "kernelspec": {
      "display_name": ".tsb-ad",
      "language": "python",
      "name": "python3"
    },
    "language_info": {
      "codemirror_mode": {
        "name": "ipython",
        "version": 3
      },
      "file_extension": ".py",
      "mimetype": "text/x-python",
      "name": "python",
      "nbconvert_exporter": "python",
      "pygments_lexer": "ipython3",
      "version": "3.12.8"
    },
    "colab": {
      "provenance": [],
      "include_colab_link": true
    }
  },
  "nbformat": 4,
  "nbformat_minor": 5
}